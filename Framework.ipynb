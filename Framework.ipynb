{
 "cells": [
  {
   "cell_type": "markdown",
   "id": "f8ffe143",
   "metadata": {},
   "source": [
    "# Deep Learning Frameworks Notes\n",
    "\n",
    "## What is a Deep Learning Framework?\n",
    "- A **software library/tool** with APIs, abstractions, and tools to simplify building and training deep learning models.\n",
    "- Helps in **data processing** and training for **accurate predictive analysis**.\n",
    "- Focuses on **neural network creation**, allowing engineers to tackle complex ML tasks.\n",
    "\n",
    "- Deep learning frameworks are interfaces, libraries, or tools (often open-source) that simplify the implementation of **machine learning (ML)** and **artificial intelligence (AI)**. These frameworks help users upload data, train models, and perform **predictive analysis**, even without deep knowledge of ML or AI.\n",
    "---\n",
    "\n",
    "## 1. **TensorFlow**\n",
    "- **Overview**: Open-source, developed by Google in 2015 for internal research, later made public.\n",
    "- **Key Features**:\n",
    "  - Uses **dataflow graphs** for computations.\n",
    "  - Processes inputs as **tensors** (multi-dimensional arrays).\n",
    "- **Applications**:\n",
    "  - **Text-Based Apps**: Language detection, sentiment analysis.\n",
    "  - **Image Recognition**: Motion and facial recognition systems.\n",
    "  - **Video Detection**: Real-time object tracking from video/image data.\n",
    "\n",
    "---\n",
    "\n",
    "## 2. **PyTorch**\n",
    "- **Overview**: Developed in 2016 by Facebook AI Lab; supports both **Python** and **C++**.\n",
    "- **Key Features**:\n",
    "  - Uses **dynamic computational graphs** (on-the-fly computation).\n",
    "  - Supports GPU-powered tensor operations.\n",
    "  - Simplifies building **Recurrent Neural Networks (RNNs)**.\n",
    "- **Applications**:\n",
    "  - **Weather Forecasting**: Pattern detection in datasets.\n",
    "  - **Text Auto Detection**: Auto-suggestions in search engines.\n",
    "  - **Fraud Detection**: Identifies anomalous credit/debit card behavior.\n",
    "\n",
    "---\n",
    "\n",
    "## 3. **Keras**\n",
    "- **Overview**: High-level, open-source library designed for fast prototyping and experimentation.\n",
    "- **Key Features**:\n",
    "  - Acts as a **wrapper** for TensorFlow or Theano.\n",
    "  - Scalable and cross-platform compatibility.\n",
    "  - Written in **Python** for ease of use.\n",
    "- **Applications**:\n",
    "  - **Smartphones**: Integration of ML for intelligent systems (e.g., Apple's advancements).\n",
    "  - **Healthcare**: Predictive diagnosis systems and heart disease detection.\n",
    "  - **Face Mask Detection**: Systems for COVID-19 safety measures.\n",
    "\n",
    "---\n",
    "\n",
    "## Summary of Frameworks\n",
    "\n",
    "| Framework   | Special Feature                  | Applications                                |\n",
    "|-------------|----------------------------------|--------------------------------------------|\n",
    "| TensorFlow  | Dataflow graphs and tensors      | Text apps, image recognition, video analysis |\n",
    "| PyTorch     | Dynamic computational graphs     | Weather forecasting, text detection, fraud prevention |\n",
    "| Keras       | High-level neural network wrapper| Smartphones, healthcare, face mask detection |\n",
    "\n",
    "These frameworks play a vital role in developing deep learning solutions across industries like **healthcare, finance, retail, and technology**.\n"
   ]
  },
  {
   "cell_type": "code",
   "execution_count": null,
   "id": "dea7716e",
   "metadata": {},
   "outputs": [],
   "source": []
  },
  {
   "cell_type": "code",
   "execution_count": null,
   "id": "c89b6ea9",
   "metadata": {},
   "outputs": [],
   "source": []
  }
 ],
 "metadata": {
  "kernelspec": {
   "display_name": "Python 3 (ipykernel)",
   "language": "python",
   "name": "python3"
  },
  "language_info": {
   "codemirror_mode": {
    "name": "ipython",
    "version": 3
   },
   "file_extension": ".py",
   "mimetype": "text/x-python",
   "name": "python",
   "nbconvert_exporter": "python",
   "pygments_lexer": "ipython3",
   "version": "3.9.12"
  }
 },
 "nbformat": 4,
 "nbformat_minor": 5
}
